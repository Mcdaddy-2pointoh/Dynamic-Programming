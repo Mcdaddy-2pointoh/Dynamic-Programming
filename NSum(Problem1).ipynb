{
 "cells": [
  {
   "cell_type": "markdown",
   "metadata": {},
   "source": [
    "# 1. N-sum problem with dynamic programming"
   ]
  },
  {
   "cell_type": "code",
   "execution_count": 79,
   "metadata": {},
   "outputs": [
    {
     "name": "stdout",
     "output_type": "stream",
     "text": [
      "10000\n"
     ]
    }
   ],
   "source": [
    "import sys\n",
    "print(sys.getrecursionlimit())"
   ]
  },
  {
   "cell_type": "code",
   "execution_count": 80,
   "metadata": {},
   "outputs": [],
   "source": [
    "class NegativeIntegerError(Exception):\n",
    "    \"Raised when the number passed to nsum function is a negative integer\"\n",
    "    pass"
   ]
  },
  {
   "cell_type": "code",
   "execution_count": 81,
   "metadata": {},
   "outputs": [],
   "source": [
    "def nsum(x: int, flag = True) -> list:\n",
    "    if flag:\n",
    "        flag = False\n",
    "        if x > 100:\n",
    "            sys.setrecursionlimit(x*10)\n",
    "    try:\n",
    "        if x < 0:\n",
    "            raise NegativeIntegerError\n",
    "        elif x == 0:\n",
    "            return [0]\n",
    "        elif x == 1:\n",
    "            return [0 , 1]\n",
    "        else: \n",
    "            init_arr = nsum(x-1, flag)\n",
    "            next_ele = init_arr[-1] + x\n",
    "            return [*init_arr, next_ele]\n",
    "    except NegativeIntegerError:\n",
    "        return(\"Exception Occured: Negative Integer found\")\n"
   ]
  },
  {
   "cell_type": "code",
   "execution_count": 84,
   "metadata": {},
   "outputs": [
    {
     "name": "stdout",
     "output_type": "stream",
     "text": [
      "The sum of first 100 numbers is: 5050\n"
     ]
    }
   ],
   "source": [
    "value = 100 # Enter your Value here\n",
    "cache_table = nsum(value)\n",
    "sum_value = cache_table[-1]\n",
    "print(f\"The sum of first {value} numbers is: {sum_value}\")"
   ]
  }
 ],
 "metadata": {
  "kernelspec": {
   "display_name": "Python 3",
   "language": "python",
   "name": "python3"
  },
  "language_info": {
   "codemirror_mode": {
    "name": "ipython",
    "version": 3
   },
   "file_extension": ".py",
   "mimetype": "text/x-python",
   "name": "python",
   "nbconvert_exporter": "python",
   "pygments_lexer": "ipython3",
   "version": "3.11.4"
  },
  "orig_nbformat": 4
 },
 "nbformat": 4,
 "nbformat_minor": 2
}
